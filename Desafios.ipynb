{
  "nbformat": 4,
  "nbformat_minor": 0,
  "metadata": {
    "colab": {
      "provenance": [],
      "authorship_tag": "ABX9TyOlzkmGlfANd7JSPDKl8IZd",
      "include_colab_link": true
    },
    "kernelspec": {
      "name": "python3",
      "display_name": "Python 3"
    },
    "language_info": {
      "name": "python"
    }
  },
  "cells": [
    {
      "cell_type": "markdown",
      "metadata": {
        "id": "view-in-github",
        "colab_type": "text"
      },
      "source": [
        "<a href=\"https://colab.research.google.com/github/GiovanaBoaventura/Desafios/blob/main/Desafios.ipynb\" target=\"_parent\"><img src=\"https://colab.research.google.com/assets/colab-badge.svg\" alt=\"Open In Colab\"/></a>"
      ]
    },
    {
      "cell_type": "markdown",
      "source": [
        "#Desafio 1"
      ],
      "metadata": {
        "id": "jEITagrHOTnS"
      }
    },
    {
      "cell_type": "code",
      "execution_count": null,
      "metadata": {
        "id": "vQKk6Yks58mR"
      },
      "outputs": [],
      "source": [
        "Nome = 'Giovana'\n",
        "Idade = 21\n",
        "Cidade = 'Santo André'\n",
        "\n",
        "print(f\"Olá, meu nome é {Nome}. Eu tenho {Idade} anos e moro em {Cidade}.\")"
      ]
    },
    {
      "cell_type": "markdown",
      "source": [
        "#Desafio 2"
      ],
      "metadata": {
        "id": "XS5Vb8i0OXez"
      }
    },
    {
      "cell_type": "code",
      "source": [
        "numeros = [10, 20, 30, 40, 50]\n",
        "\n",
        "media = sum(numeros) / len(numeros)\n",
        "\n",
        "print(\"A média é: \",media)"
      ],
      "metadata": {
        "id": "9B0nuJ4DOXES"
      },
      "execution_count": null,
      "outputs": []
    },
    {
      "cell_type": "markdown",
      "source": [
        "#Desafio 3"
      ],
      "metadata": {
        "id": "Q_CHZlfVO9CY"
      }
    },
    {
      "cell_type": "code",
      "source": [
        "gastos_Joao = [300, 500, 200, 800]\n",
        "gastos_Pedro = [200, 400, 500, 700]\n",
        "\n",
        "\n",
        "somatotalJ = sum(gastos_Joao)\n",
        "somatotalP = sum(gastos_Pedro)\n",
        "\n",
        "if somatotalJ > somatotalP:\n",
        "  print(\"João gastou mais do que Pedro.\")\n",
        "\n",
        "elif somatotalJ < somatotalP:\n",
        "  print(\"Pedro gastou mais do que João.\")\n",
        "\n",
        "else:\n",
        "  print(\"Os dois gastaram a mesma quantidade.\")\n"
      ],
      "metadata": {
        "id": "6gq9Gch5O-uQ"
      },
      "execution_count": null,
      "outputs": []
    }
  ]
}